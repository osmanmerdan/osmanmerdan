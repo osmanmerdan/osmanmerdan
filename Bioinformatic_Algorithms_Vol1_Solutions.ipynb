{
  "cells": [
    {
      "cell_type": "markdown",
      "metadata": {
        "id": "view-in-github",
        "colab_type": "text"
      },
      "source": [
        "<a href=\"https://colab.research.google.com/github/osmanmerdan/osmanmerdan/blob/main/Bioinformatic_Algorithms_Vol1_Solutions.ipynb\" target=\"_parent\"><img src=\"https://colab.research.google.com/assets/colab-badge.svg\" alt=\"Open In Colab\"/></a>"
      ]
    },
    {
      "cell_type": "markdown",
      "source": [
        "# Find the Minimum Number of Coins Needed to Make Change\n"
      ],
      "metadata": {
        "id": "79sZF-Bx9jq2"
      }
    },
    {
      "cell_type": "markdown",
      "source": [
        "- The following dynamic programming algorithm calculates MINNUMCOINS(money)\n",
        "with runtime O(money · |COINS|).\n"
      ],
      "metadata": {
        "id": "GDcQq2MJ_0j3"
      }
    },
    {
      "cell_type": "code",
      "source": [
        "def dpchange(money, coins):\n",
        "    maxc = max(coins)\n",
        "    min_num_coins=[0]*(maxc)\n",
        "    for m in range(1, money+1):\n",
        "        min_num_coins[m%maxc] = min([min_num_coins[(m-c)%maxc]+1 for c in coins if m>=c])\n",
        "    return min_num_coins[money%maxc]\n",
        "\n",
        "# Test ================\n",
        "dpchange(17780, [1,3,5,6,7,9,16,22])"
      ],
      "metadata": {
        "id": "ViiviimI27P0"
      },
      "execution_count": null,
      "outputs": []
    },
    {
      "cell_type": "markdown",
      "source": [
        "# Find the Length of a Longest Path in a Manhattan-like Grid"
      ],
      "metadata": {
        "id": "ku1x6HhA-q77"
      }
    },
    {
      "cell_type": "markdown",
      "source": [
        "Find the length of a longest path in a rectangular city.\n",
        "\n",
        "**Given:** Integers n and m, followed by an n × (m+1) matrix Down and an (n+1) × m matrix Right. The two matrices are separated by the \"-\" symbol.\n",
        "\n",
        "**Return:** The length of a longest path from source (0, 0) to sink (n, m) in the n × m rectangular grid whose edges are defined by the matrices Down and Right."
      ],
      "metadata": {
        "id": "2mmdJs___5hT"
      }
    },
    {
      "cell_type": "code",
      "source": [
        "def ManhattonTourist(n,m,Down,Right):\n",
        "    s=[[0]*(m+1) for _ in range(n+1)]\n",
        "    for i in range(1,n+1):\n",
        "        s[i][0]=s[i-1][0]+Down[i-1][0]\n",
        "    for j in range(1,m+1):\n",
        "        s[0][j]=s[0][j-1]+Right[0][j-1]\n",
        "    for i in range(1,n+1):\n",
        "        for j in range(1,m+1):\n",
        "            s[i][j]=max(s[i-1][j]+Down[i-1][j],s[i][j-1]+Right[i][j-1])\n",
        "    return s[n][m]\n",
        "\n",
        "\n",
        "# Test =====================\n",
        "# 1\n",
        "n=4\n",
        "m=4\n",
        "Down=[[1,0,2,4,3],\n",
        "[4,6,5,2,1],\n",
        "[4,4,5,2,1],\n",
        "[5,6,8,5,3]]\n",
        "\n",
        "Right=[[3,2,4,0],\n",
        "[3,2,4,2],\n",
        "[0,7,3,4],\n",
        "[3,3,0,2],\n",
        "[1,3,2,2]]\n",
        "\n",
        "ManhattonTourist(n,m,Down,Right)\n",
        "\n",
        "#2\n",
        "# Formatting input\n",
        "dat=[]\n",
        "with open('/content/rosalind_ba5b.txt','r') as  file:\n",
        "    for line in file:\n",
        "        if line.strip()!='-':\n",
        "            dat.append(list(map(int,line.strip().split())))\n",
        "n=int(dat[0][0])\n",
        "m=int(dat[0][1])\n",
        "Down=dat[1:n+1]\n",
        "Right=dat[1+n:1+n+m+1]\n",
        "\n",
        "ManhattonTourist(n,m,Down,Right)"
      ],
      "metadata": {
        "id": "O9IkfcIWdxlP"
      },
      "execution_count": null,
      "outputs": []
    },
    {
      "cell_type": "markdown",
      "source": [
        "# Find a Topological Ordering of a DAG"
      ],
      "metadata": {
        "id": "cYX-Uh9HZYKg"
      }
    },
    {
      "cell_type": "markdown",
      "source": [
        "Find a topological ordering of a directed acyclic graph.\n",
        "\n",
        "**Given:** The adjacency list of a graph (with nodes represented by integers).\n",
        "\n",
        "**Return:** A topological ordering of this graph.\n",
        "\n",
        "**Explaination:**\n",
        "1. The following algorithm for constructing a topological ordering is based on the observation that **every DAG has at least one node with no incoming edges**.\n",
        "2. We will label\n",
        "one of these nodes as $v_1$ and then remove this node from the graph along with all its\n",
        "outgoing edges.\n",
        "3. The resulting graph is also a DAG, which in turn must have a node\n",
        "with no incoming edges; we label this node $v_2$, and again remove it from the graph\n",
        "along with its outgoing edges.\n",
        "4. The resulting algorithm proceeds until all nodes have\n",
        "been removed, producing a topological order $v_1, . . . , v_n$.\n",
        "5. This algorithm runs in time\n",
        "proportional to the number of edges in the input DAG."
      ],
      "metadata": {
        "id": "hzqK1Ast_99H"
      }
    },
    {
      "cell_type": "code",
      "source": [
        "def topological_order(Graph):\n",
        "\n",
        "    # Candidates: set of all nodes in Graph with no incoming edges\n",
        "    from collections import defaultdict, deque\n",
        "    in_degrees = defaultdict(int)\n",
        "    for node in Graph:\n",
        "        for neighbour in Graph[node]:\n",
        "            in_degrees[neighbour]+=1\n",
        "    candidates = deque()\n",
        "    for node in Graph:\n",
        "        if in_degrees[node]==0:\n",
        "            candidates.append(node)\n",
        "    if not candidates:\n",
        "        return f\"Input graph is not a DAG\"\n",
        "\n",
        "    top_order = []\n",
        "    while candidates:\n",
        "        current_node = candidates.popleft()\n",
        "        top_order.append(current_node)\n",
        "        for neighbour in Graph.get(current_node, []):\n",
        "            in_degrees[neighbour]-=1\n",
        "            if in_degrees[neighbour] == 0:\n",
        "                candidates.append(neighbour)\n",
        "\n",
        "    if any([v>0 for v in in_degrees.values()]):\n",
        "        return f\"Input graph is not a DAG\"\n",
        "    else:\n",
        "        return top_order\n",
        "\n",
        "# TEST =========================================================\n",
        "#1\n",
        "Graph={1:[2],2:[3],4:[2],5:[3]}\n",
        "x=topological_order(Graph)\n",
        "print(', '.join([str(i) for i in x]))\n",
        "\n",
        "#2\n",
        "Graph={}\n",
        "with open('/content/rosalind_ba5n.txt','r') as  file:\n",
        "    for line in file:\n",
        "        line=line.strip()\n",
        "        key= int(line.split(' -> ')[0])\n",
        "        value=list(map(int,line.split(' -> ')[1].split(',')))\n",
        "        Graph[key]=value\n",
        "x=topological_order(Graph)\n",
        "print(', '.join([str(i) for i in x]))"
      ],
      "metadata": {
        "id": "ctoox2dBFB8T"
      },
      "execution_count": null,
      "outputs": []
    },
    {
      "cell_type": "markdown",
      "source": [
        "# Find the Longest Path in a DAG"
      ],
      "metadata": {
        "id": "06fnghvFrhvC"
      }
    },
    {
      "cell_type": "markdown",
      "source": [
        "Find a longest path between two nodes in an edge-weighted DAG.\n",
        "\n",
        "**Given:** An integer representing the source node of a graph, followed by an integer representing the sink node of the graph, followed by an edge-weighted graph. The graph is represented by a modified adjacency list in which the notation \"0->1:7\" indicates that an edge connects node 0 to node 1 with weight 7.\n",
        "\n",
        "**Return:** The length of a longest path in the graph, followed by a longest path. (If multiple longest paths exist, you may return any one.)"
      ],
      "metadata": {
        "id": "2iCRORqBCTiJ"
      }
    },
    {
      "cell_type": "code",
      "source": [
        "\n",
        "def TopologicalOrder(Graph):\n",
        "    from collections import defaultdict, deque\n",
        "    in_degrees = defaultdict(int)\n",
        "    for node in Graph:\n",
        "        for neighbour, _ in Graph[node]:\n",
        "            in_degrees[neighbour]+=1\n",
        "    candidates = deque()\n",
        "    for node in Graph:\n",
        "        if in_degrees[node]==0:\n",
        "            candidates.append(node)\n",
        "    if not candidates:\n",
        "        return f\"Input graph is not a DAG\"\n",
        "    top_order = []\n",
        "    while candidates:\n",
        "        current_node = candidates.popleft()\n",
        "        top_order.append(current_node)\n",
        "        for neighbour, _ in Graph.get(current_node, []):\n",
        "            in_degrees[neighbour]-=1\n",
        "            if in_degrees[neighbour] == 0:\n",
        "                candidates.append(neighbour)\n",
        "\n",
        "    if any([v>0 for v in in_degrees.values()]):\n",
        "        return f\"Input graph is not a DAG\"\n",
        "    else:\n",
        "        return top_order\n",
        "\n",
        "#Find longest path in DAG\n",
        "def DAGLONGESTPATH(Graph, source, sink):\n",
        "    # Top sort graph\n",
        "    top_order=TopologicalOrder(Graph)\n",
        "\n",
        "    # Find longest distance to a particular node starting from source node\n",
        "    longest_dist={node:float('-inf') for node in top_order}\n",
        "    longest_dist[source]=0\n",
        "    prev_node={}\n",
        "    for a in top_order:\n",
        "        for b, weight in Graph.get(a,[]):\n",
        "            if longest_dist[b]<longest_dist[a]+weight:\n",
        "                longest_dist[b]=longest_dist[a]+weight\n",
        "                prev_node[b]=a\n",
        "\n",
        "    # Format string\n",
        "    s1 = str(longest_dist[sink])\n",
        "\n",
        "    # Backtrack to construct path\n",
        "    longest_path=[sink]\n",
        "    while prev_node[sink]!=source:\n",
        "        sink=prev_node[sink]\n",
        "        longest_path.append(sink)\n",
        "    longest_path.append(source)\n",
        "\n",
        "    # Format string\n",
        "    s2 = '->'.join([str(i) for i in longest_path[::-1]])\n",
        "    string = s1+'\\n'+s2\n",
        "\n",
        "    return string\n",
        "\n",
        "# Test =================================\n",
        "#1\n",
        "Graph = {2:[(3,2)],1:[(4,1)],3:[(4,3)],0:[(1,7),(2,4)]}\n",
        "print(DAGLONGESTPATH(Graph,0,4))\n",
        "\n",
        "#2\n",
        "from collections import defaultdict\n",
        "Graph = defaultdict(list)\n",
        "with open('/content/rosalind_ba5d.txt', 'r') as file:\n",
        "    source = str(file.readline().strip())\n",
        "    sink = str(file.readline().strip())\n",
        "    for line in file:\n",
        "        parts = line.strip().split('->')\n",
        "        n = parts[1].split(':')\n",
        "        Graph[parts[0]].append((n[0],int(n[1])))\n",
        "\n",
        "print(DAGLONGESTPATH(Graph,source,sink))"
      ],
      "metadata": {
        "id": "snscHQ6y01tI"
      },
      "execution_count": null,
      "outputs": []
    },
    {
      "cell_type": "markdown",
      "source": [
        "#Find a Longest Common Subsequence of Two Strings"
      ],
      "metadata": {
        "id": "TOu5PBWx02y6"
      }
    },
    {
      "cell_type": "markdown",
      "source": [
        "**Given:** Two strings $(v,w)$.\n",
        "\n",
        "**Return:** A longest common subsequence of these strings.\n",
        "\n",
        "Use the following scoring scheme:\n",
        "\n",
        "$s_{ij} = max\\left\\{\n",
        "  \\begin{array}{ll}\n",
        "    s_{(i-1),\\,j}\\\\\n",
        "    s_{(j-1),\\,i}\\\\\n",
        "    s_{(i-1),\\,(j-1)+1\\,,\\, if (v_i==w_j) }\n",
        "  \\end{array}\n",
        "\\right.$"
      ],
      "metadata": {
        "id": "rQYPx_MsJRmR"
      }
    },
    {
      "cell_type": "code",
      "source": [
        "# 1. Bactrack matrix\n",
        "import numpy as np\n",
        "def create_backtrack_matrix(v,w):\n",
        "    '''\n",
        "    Creates a backtrack matrix to find longest common subsequence.\n",
        "    Uses down(D), right(R) and diagonal (#) directions.\n",
        "    Takes two input sequences v and w.\n",
        "    '''\n",
        "    # Init scoring matrix\n",
        "    s = np.zeros((len(v)+1, len(w)+1), dtype=int)\n",
        "    #Initialize the backtrack matrix, Unicode 1 character length\n",
        "    b_m = np.empty((len(v)+1, len(w)+1), dtype='U1')\n",
        "\n",
        "    for i in range(1,len(v)+1):\n",
        "        for j in range(1,len(w)+1):\n",
        "            matched = 0\n",
        "            if v[i-1] == w[j-1]:\n",
        "                matched = 1\n",
        "            s[i,j]= max(s[i-1,j], s[i,j-1], s[i-1,j-1] + matched)\n",
        "\n",
        "            if s[i,j]==s[i-1,j]:\n",
        "                b_m[i,j]='D'\n",
        "            elif s[i,j]==s[i,j-1]:\n",
        "                b_m[i,j]='R'\n",
        "            elif s[i,j]==s[i-1,j-1]+1 and matched:\n",
        "                b_m[i,j]='#'\n",
        "    return b_m\n",
        "\n",
        "# 2. Output function that returns one of the LCSs\n",
        "def longest_common_substring(v, w):\n",
        "    '''\n",
        "    Returns one of the longest common substring of two strings (v,w).\n",
        "    '''\n",
        "    # Calculate backtrack matrix\n",
        "    b_m = create_backtrack_matrix(v,w)\n",
        "    i = len(v)\n",
        "    j = len(w)\n",
        "\n",
        "    lcs = []\n",
        "    while i > 0 and j > 0:\n",
        "        if b_m[i,j] == '#':\n",
        "            lcs.append(v[i - 1])\n",
        "            i -= 1\n",
        "            j -= 1\n",
        "        elif b_m[i,j] == 'R':\n",
        "            j -= 1\n",
        "        else:\n",
        "            i -= 1\n",
        "    return ''.join(reversed(lcs))\n",
        "\n",
        "# Test =======================\n",
        "# 1\n",
        "\n",
        "v= 'AACCTTGG'\n",
        "w= 'ACACTGTGA'\n",
        "print(create_backtrack_matrix(v,w))\n",
        "print(longest_common_substring(v,w))\n",
        "\n",
        "# 2\n",
        "with open('/content/rosalind_ba5c.txt', 'r') as file:\n",
        "    v = file.readline().strip()\n",
        "    w = file.readline().strip()\n",
        "import time\n",
        "start = time.time()\n",
        "print(longest_common_substring(v,w))\n",
        "end = time.time()\n",
        "print(end-start)\n",
        "\n",
        "# This code can be further optimized by removing Backtrack matrix.\n",
        "# That matrix is an intermediate step and unnecessary.\n",
        "# Remove lines starting from 21 and implement output function directly.\n",
        "# For example:\n",
        "#  while i > 0 and j > 0: if s[i,j]==s[i-1,j-1]: lcs.append(v[i-1])..."
      ],
      "metadata": {
        "id": "LY3mEVbMODI0"
      },
      "execution_count": null,
      "outputs": []
    },
    {
      "cell_type": "markdown",
      "source": [
        "# Find a Highest-Scoring Alignment of Two Strings"
      ],
      "metadata": {
        "id": "bK9_RkqkToVy"
      }
    },
    {
      "cell_type": "markdown",
      "source": [
        "Global Alignment Problem\n",
        "\n",
        "Find the highest-scoring alignment between two strings using a scoring matrix.\n",
        "\n",
        "**Given:** Two amino acid strings.\n",
        "\n",
        "**Return:** The maximum alignment score of these strings followed by an alignment achieving this maximum score. Use the `BLOSUM62` scoring matrix and indel penalty $σ = 5$. (If multiple alignments achieving the maximum score exist, you may return any one.)\n",
        "\n",
        "**Solution:** Use blosum package to obtain substitution values."
      ],
      "metadata": {
        "id": "Sz7hrOKrThlP"
      }
    },
    {
      "cell_type": "code",
      "source": [
        "!pip install blosum"
      ],
      "metadata": {
        "id": "iOz2pXf8TnqK",
        "colab": {
          "base_uri": "https://localhost:8080/"
        },
        "outputId": "6e69a5df-7a56-4ba7-f26f-897c990db194"
      },
      "execution_count": null,
      "outputs": [
        {
          "output_type": "stream",
          "name": "stdout",
          "text": [
            "Requirement already satisfied: blosum in /usr/local/lib/python3.10/dist-packages (2.0.2)\n"
          ]
        }
      ]
    },
    {
      "cell_type": "code",
      "source": [
        "import blosum as bl\n",
        "matrix = bl.BLOSUM(62)\n",
        "print(matrix[\"A\"][\"Y\"])"
      ],
      "metadata": {
        "id": "bAf_UoB6VHS_",
        "colab": {
          "base_uri": "https://localhost:8080/"
        },
        "outputId": "87bb477c-9e86-4eca-d2fb-68f652443db5"
      },
      "execution_count": null,
      "outputs": [
        {
          "output_type": "stream",
          "name": "stdout",
          "text": [
            "-2.0\n"
          ]
        }
      ]
    },
    {
      "cell_type": "markdown",
      "source": [
        "1. Solution for returninig one optimal alignment."
      ],
      "metadata": {
        "id": "1l_vEOthNNxZ"
      }
    },
    {
      "cell_type": "code",
      "source": [
        "def global_alignment(x, y, sigma=5):\n",
        "    '''\n",
        "    Finds global alignment of two sequences (x,y)\n",
        "    using BLOSUM62 matrix and 5 as indel penalty.\n",
        "    This function requires blosum package.\n",
        "    Returns one of the highest scoring alignments.\n",
        "    '''\n",
        "    # Import and initalize blosum62 matrix\n",
        "    import blosum as bl\n",
        "    b_m = bl.BLOSUM(62)\n",
        "\n",
        "    # Initialize alignment score matrix\n",
        "    len_x=len(x)\n",
        "    len_y=len(y)\n",
        "    mat = [[0] * (len_y+1) for i in range(len_x+1)]\n",
        "\n",
        "    # Initialize the first column, mat[0,0]=0\n",
        "    for i in range(1, len_x+1):\n",
        "        mat[i][0] = mat[i-1][0] - sigma\n",
        "\n",
        "    # Initialize the first row\n",
        "    for j in range(1,len_y+1):\n",
        "        mat[0][j] = mat[0][j-1] - sigma\n",
        "\n",
        "    # Fill the rest of the matrix\n",
        "    for i in range(1, len_x+1):\n",
        "        for j in range(1, len_y+1):\n",
        "            dist_h = mat[i][j-1] - sigma\n",
        "            dist_v = mat[i-1][j] - sigma\n",
        "            dist_d = mat[i-1][j-1] + b_m[x[i-1]][y[j-1]]\n",
        "            mat[i][j] = int(max(dist_h, dist_v, dist_d))\n",
        "\n",
        "    # Backtrack\n",
        "    row1=''\n",
        "    row2=''\n",
        "\n",
        "    i= len_x\n",
        "    j= len_y\n",
        "    while i>0 or j>0:\n",
        "        if i>0 and j>0 and mat[i][j]==mat[i-1][j-1]+b_m[x[i-1]][y[j-1]]:\n",
        "            row1=x[i-1]+row1\n",
        "            row2=y[j-1]+row2\n",
        "            i-=1\n",
        "            j-=1\n",
        "        elif i>0 and mat[i][j]==mat[i-1][j]-sigma:\n",
        "            row1=x[i-1]+row1\n",
        "            row2='-'+row2\n",
        "            i-=1\n",
        "        elif j>0:\n",
        "            row1='-'+row1\n",
        "            row2=y[j-1]+row2\n",
        "            j-=1\n",
        "\n",
        "    return  mat[-1][-1],row1,row2\n",
        "\n",
        "# Test======================\n",
        "# 1\n",
        "#x='PRTEINS'\n",
        "#y='PRTWPSEIN'\n",
        "\n",
        "\n",
        "x='PLEASANTLY'\n",
        "y='MEASNLY'\n",
        "#print('\\n'.join(global_alignment(x, y)))\n",
        "\n",
        "# 2\n",
        "#with open('/content/rosalind_ba5l.txt','r') as f:\n",
        "#    x=f.readline().strip()\n",
        "#    y=f.readline().strip()\n",
        "print('\\n'.join(map(str,(global_alignment(x, y)))))"
      ],
      "metadata": {
        "colab": {
          "base_uri": "https://localhost:8080/"
        },
        "id": "aIQ84zRfVS5r",
        "outputId": "1a580fec-7635-406a-946d-8a7896f931b5"
      },
      "execution_count": null,
      "outputs": [
        {
          "output_type": "stream",
          "name": "stdout",
          "text": [
            "17\n",
            "PLEASANTLY\n",
            "-MEAS-N-LY\n"
          ]
        }
      ]
    },
    {
      "cell_type": "markdown",
      "source": [
        "2. Solution to return all optimal alignments."
      ],
      "metadata": {
        "id": "dhjkJIV9NUOw"
      }
    },
    {
      "cell_type": "code",
      "source": [
        "def global_alignments(x, y):\n",
        "    '''\n",
        "    Finds ALL global alignments of two sequences (x, y)\n",
        "    using BLOSUM62 matrix and 5 as indel penalty.\n",
        "    This function requires blosum package.\n",
        "    '''\n",
        "    # Import and initialize BLOSUM62 matrix\n",
        "    import blosum as bl\n",
        "    b_m = bl.BLOSUM(62)\n",
        "\n",
        "    # Initialize distance matrix\n",
        "    len_x = len(x)\n",
        "    len_y = len(y)\n",
        "    mat = [[0] * (len_y + 1) for i in range(len_x + 1)]\n",
        "\n",
        "    # Initialize the first column, mat[0,0]=0\n",
        "    for i in range(1, len_x + 1):\n",
        "        mat[i][0] = mat[i - 1][0] - 5\n",
        "\n",
        "    # Initialize the first row\n",
        "    for j in range(1, len_y + 1):\n",
        "        mat[0][j] = mat[0][j - 1] - 5\n",
        "\n",
        "    # Fill the rest of the matrix\n",
        "    for i in range(1, len_x + 1):\n",
        "        for j in range(1, len_y + 1):\n",
        "            dist_h = mat[i][j - 1] - 5\n",
        "            dist_v = mat[i - 1][j] - 5\n",
        "            dist_d = mat[i - 1][j - 1] + b_m[x[i - 1]][y[j - 1]]\n",
        "            mat[i][j] = int(max(dist_h, dist_v, dist_d))\n",
        "\n",
        "    # Initialize a list to store all possible alignments\n",
        "    alignments = []\n",
        "\n",
        "    # Initialize a stack to keep track of the current state during backtracking\n",
        "    stack = [(len_x, len_y, '', '')]\n",
        "\n",
        "    while stack:\n",
        "        i, j, align_x, align_y = stack.pop()\n",
        "\n",
        "        if i == 0 and j == 0:\n",
        "            alignments.append((align_x, align_y))\n",
        "            continue\n",
        "\n",
        "        if i > 0 and mat[i][j] == mat[i - 1][j] - 5:\n",
        "            stack.append((i - 1, j, x[i - 1] + align_x, '-' + align_y))\n",
        "\n",
        "        if j > 0 and mat[i][j] == mat[i][j - 1] - 5:\n",
        "            stack.append((i, j - 1, '-' + align_x, y[j - 1] + align_y))\n",
        "\n",
        "        if i > 0 and j > 0 and mat[i][j] == mat[i - 1][j - 1] + b_m[x[i - 1]][y[j - 1]]:\n",
        "            stack.append((i - 1, j - 1, x[i - 1] + align_x, y[j - 1] + align_y))\n",
        "\n",
        "    return mat[-1][-1],alignments\n",
        "\n",
        "# Test ================================\n",
        "# 1\n",
        "x = 'PLEASANTLY'\n",
        "y = 'MEANLY'\n",
        "max_score, alignments = global_alignments(x, y)\n",
        "print(f'Maximum alignment score: {max_score}\\n')\n",
        "for i, (alignment_x, alignment_y) in enumerate(alignments):\n",
        "    print(f'Alignment {i + 1}:')\n",
        "    print(alignment_x)\n",
        "    print(alignment_y)\n",
        "    print()\n",
        "\n",
        "# 2\n",
        "#with open('/content/untitled','r') as f:\n",
        "#    x=f.readline().strip()\n",
        "#    y=f.readline().strip()\n",
        "#print(global_alignments(x, y))\n",
        "\n",
        "#max_score, alignments = global_alignments(x, y)\n",
        "#for i, (alignment_x, alignment_y) in enumerate(alignments):\n",
        "#    print(f'Alignment {i + 1}:')\n",
        "#    print(alignment_x)\n",
        "#    print(alignment_y)\n",
        "#    print()"
      ],
      "metadata": {
        "id": "-heypfUI48CL",
        "colab": {
          "base_uri": "https://localhost:8080/"
        },
        "outputId": "5563a288-ca1e-48db-e00d-c6587ea5b0b3"
      },
      "execution_count": null,
      "outputs": [
        {
          "output_type": "stream",
          "name": "stdout",
          "text": [
            "Maximum alignment score: 8\n",
            "\n",
            "Alignment 1:\n",
            "PLEASANTLY\n",
            "-ME--AN-LY\n",
            "\n",
            "Alignment 2:\n",
            "PLEASANTLY\n",
            "-MEA--N-LY\n",
            "\n"
          ]
        }
      ]
    },
    {
      "cell_type": "markdown",
      "source": [
        "#Find a Highest-Scoring Local Alignment of Two Strings"
      ],
      "metadata": {
        "id": "zw9fJNwUVgm7"
      }
    },
    {
      "cell_type": "markdown",
      "source": [
        "Find the highest-scoring local alignment between two strings.\n",
        "\n",
        "**Given:** Two amino acid strings.\n",
        "\n",
        "**Return:** The maximum score of a local alignment of the strings, followed by a local alignment of these strings achieving the maximum score. Use the `PAM250` scoring matrix and indel penalty $σ = 5$. (If multiple local alignments achieving the maximum score exist, you may return any one.)\n",
        "\n",
        "Solution uses following descriptions:\n",
        "\n",
        "$s_{ij} = max\\left\\{\n",
        "  \\begin{array}{ll}\n",
        "    0\\\\\n",
        "    s_{(i-1),\\,j}+score(v_i,-)\\\\\n",
        "    s_{(j-1),\\,i}+score(w_j,-)\\\\\n",
        "    s_{(i-1),\\,(j-1)}+score(v_i,w_j)\n",
        "  \\end{array}\n",
        "\\right.$"
      ],
      "metadata": {
        "id": "ex6QmulAhGRK"
      }
    },
    {
      "cell_type": "code",
      "source": [
        "# Scoring Matrix\n",
        "m = '''\n",
        "   A  C  D  E  F  G  H  I  K  L  M  N  P  Q  R  S  T  V  W  Y\n",
        "A  2 -2  0  0 -3  1 -1 -1 -1 -2 -1  0  1  0 -2  1  1  0 -6 -3\n",
        "C -2 12 -5 -5 -4 -3 -3 -2 -5 -6 -5 -4 -3 -5 -4  0 -2 -2 -8  0\n",
        "D  0 -5  4  3 -6  1  1 -2  0 -4 -3  2 -1  2 -1  0  0 -2 -7 -4\n",
        "E  0 -5  3  4 -5  0  1 -2  0 -3 -2  1 -1  2 -1  0  0 -2 -7 -4\n",
        "F -3 -4 -6 -5  9 -5 -2  1 -5  2  0 -3 -5 -5 -4 -3 -3 -1  0  7\n",
        "G  1 -3  1  0 -5  5 -2 -3 -2 -4 -3  0  0 -1 -3  1  0 -1 -7 -5\n",
        "H -1 -3  1  1 -2 -2  6 -2  0 -2 -2  2  0  3  2 -1 -1 -2 -3  0\n",
        "I -1 -2 -2 -2  1 -3 -2  5 -2  2  2 -2 -2 -2 -2 -1  0  4 -5 -1\n",
        "K -1 -5  0  0 -5 -2  0 -2  5 -3  0  1 -1  1  3  0  0 -2 -3 -4\n",
        "L -2 -6 -4 -3  2 -4 -2  2 -3  6  4 -3 -3 -2 -3 -3 -2  2 -2 -1\n",
        "M -1 -5 -3 -2  0 -3 -2  2  0  4  6 -2 -2 -1  0 -2 -1  2 -4 -2\n",
        "N  0 -4  2  1 -3  0  2 -2  1 -3 -2  2  0  1  0  1  0 -2 -4 -2\n",
        "P  1 -3 -1 -1 -5  0  0 -2 -1 -3 -2  0  6  0  0  1  0 -1 -6 -5\n",
        "Q  0 -5  2  2 -5 -1  3 -2  1 -2 -1  1  0  4  1 -1 -1 -2 -5 -4\n",
        "R -2 -4 -1 -1 -4 -3  2 -2  3 -3  0  0  0  1  6  0 -1 -2  2 -4\n",
        "S  1  0  0  0 -3  1 -1 -1  0 -3 -2  1  1 -1  0  2  1 -1 -2 -3\n",
        "T  1 -2  0  0 -3  0 -1  0  0 -2 -1  0  0 -1 -1  1  3  0 -5 -3\n",
        "V  0 -2 -2 -2 -1 -1 -2  4 -2  2  2 -2 -1 -2 -2 -1  0  4 -6 -2\n",
        "W -6 -8 -7 -7  0 -7 -3 -5 -3 -2 -4 -4 -6 -5  2 -2 -5 -6 17  0\n",
        "Y -3  0 -4 -4  7 -5  0 -1 -4 -1 -2 -2 -5 -4 -4 -3 -3 -2  0 10\n",
        "'''\n",
        "m = m.strip().split('\\n')\n",
        "aa_names = m[0].split()\n",
        "pam250 = dict()\n",
        "for aa in aa_names:\n",
        "    pam250[aa] = dict()\n",
        "for i in range(1, len(aa_names) + 1):\n",
        "    row = m[i].split()\n",
        "    for j in range(len(aa_names)):\n",
        "        pam250[row[0]][aa_names[j]] = int(row[j + 1])\n",
        "\n",
        "\n",
        "\n",
        "def local_alignment(x, y, sigma=5):\n",
        "    '''\n",
        "    Finds the highest scoring local alignment\n",
        "    between sequences x,y. Uses PAM250 matrix.\n",
        "    '''\n",
        "\n",
        "    # Initialize alignment score matrix\n",
        "    len_x=len(x)\n",
        "    len_y=len(y)\n",
        "    import numpy as np\n",
        "    mat = np.zeros((len_x+1, len_y+1),dtype=int)\n",
        "\n",
        "    # Fill the rest of the matrix\n",
        "    for i in range(1, len_x+1):\n",
        "        for j in range(1, len_y+1):\n",
        "            dist_h = mat[i,j-1] - sigma\n",
        "            dist_v = mat[i-1,j] - sigma\n",
        "            dist_d = mat[i-1,j-1] + pam250[x[i-1]][y[j-1]]\n",
        "            mat[i][j] = int(max(dist_h, dist_v, dist_d,0))\n",
        "\n",
        "    # Backtrack\n",
        "    # Find the maximum score and its location in the mat.\n",
        "    # Backtrack from its location\n",
        "    # Strop when alignment score dropped to 0.\n",
        "    row1=''\n",
        "    row2=''\n",
        "\n",
        "    max_score=mat.max() # Max score in map\n",
        "    #sink=np.argmax(mat) # Index of max score\n",
        "    #i, j=np.unravel_index(sink, mat.shape) # Location of max score\n",
        "    ij=np.where(mat==max_score)#Position array of location of max score\n",
        "    i,j=(ij[0][0],ij[1][0])\n",
        "    while mat[i,j]>0:\n",
        "        if mat[i,j]==mat[i-1,j-1]+pam250[x[i-1]][y[j-1]]:\n",
        "            row1=x[i-1]+row1\n",
        "            row2=y[j-1]+row2\n",
        "            i-=1\n",
        "            j-=1\n",
        "        elif mat[i][j]==mat[i-1][j]-sigma:\n",
        "            row1=x[i-1]+row1\n",
        "            row2='-'+row2\n",
        "            i-=1\n",
        "        else: #elif mat[i][j]==mat[i][j-1]-sigma:\n",
        "            row1='-'+row1\n",
        "            row2=y[j-1]+row2\n",
        "            j-=1\n",
        "\n",
        "    return  f'{max_score}\\n{row1}\\n{row2}'\n",
        "\n",
        "# Test======================\n",
        "# 1\n",
        "x='MEANLY'\n",
        "y='PENALTY'\n",
        "print(local_alignment(x, y))\n",
        "\n",
        "# 2\n",
        "#with open('/content/rosalind_ba5f (1).txt','r') as f:\n",
        "    #x=f.readline().strip()\n",
        "    #y=f.readline().strip()\n",
        "#print(local_alignment(x, y))"
      ],
      "metadata": {
        "colab": {
          "base_uri": "https://localhost:8080/"
        },
        "id": "dtWNtL5OVmVv",
        "outputId": "69038365-9b23-4206-e5aa-33041b07316d"
      },
      "execution_count": null,
      "outputs": [
        {
          "output_type": "stream",
          "name": "stdout",
          "text": [
            "(array([6]), array([7]))\n",
            "15\n",
            "EANL-Y\n",
            "ENALTY\n"
          ]
        }
      ]
    },
    {
      "cell_type": "markdown",
      "source": [
        "#Compute the Edit Distance Between Two Strings"
      ],
      "metadata": {
        "id": "CHfE6uAJoN29"
      }
    },
    {
      "cell_type": "markdown",
      "source": [
        "In 1966, Vladimir Levenshtein introduced the notion of the **edit distance** between two strings **as the minimum number of edit operations** needed to transform one string into another. Here, an edit operation is the **insertion, deletion**, or **substitution** of a single symbol. For example, $\\texttt{TGCATAT}$ can be transformed into $\\texttt{ATCCGAT}$ with five edit operations, implying that the edit distance between these strings is at most 5.\n",
        "\n",
        "**Edit Distance Problem**\n",
        "Find the edit distance between two strings.\n",
        "\n",
        "**Given:** Two amino acid strings.\n",
        "\n",
        "**Return:** The edit distance between these strings."
      ],
      "metadata": {
        "id": "oCWLh7G6ovqq"
      }
    },
    {
      "cell_type": "code",
      "source": [
        "def edit_distance(v,w):\n",
        "    '''\n",
        "    Finds minimum number of edit operations needed to\n",
        "    transform one string to another.\n",
        "    '''\n",
        "    import numpy as np\n",
        "    #Create distance matrix\n",
        "    lv=len(v)\n",
        "    lw=len(w)\n",
        "    m=np.zeros((lv+1,lw+1),dtype=int)\n",
        "    #Fill the first row\n",
        "    m[0,:]=range(0,lw+1,1)\n",
        "    #Fill the first column\n",
        "    m[:,0]=range(0,lv+1,1)\n",
        "    #Fill the rest of the matrix\n",
        "    for i in range(1,lv+1):\n",
        "        for j in range(1,lw+1):\n",
        "            right=m[i,j-1]+1\n",
        "            down=m[i-1,j]+1\n",
        "            diag=m[i-1,j-1]+(1 if v[i-1] != w[j-1] else 0)\n",
        "            m[i,j]=min(right,down,diag)\n",
        "    return m[-1,-1]\n",
        "\n",
        "# Test =======================\n",
        "#1\n",
        "v='PLEASANTLY'\n",
        "w='MEANLY'\n",
        "print(edit_distance(v,w))\n",
        "# 2\n",
        "with open('/content/rosalind_ba5g.txt','r') as f:\n",
        "    v=f.readline().strip()\n",
        "    w=f.readline().strip()\n",
        "\n",
        "print(edit_distance(v,w))"
      ],
      "metadata": {
        "colab": {
          "base_uri": "https://localhost:8080/"
        },
        "id": "5dd-uBiaoMwt",
        "outputId": "cac70242-0092-48c0-bfa8-fb3a5c8f0d88"
      },
      "execution_count": null,
      "outputs": [
        {
          "output_type": "stream",
          "name": "stdout",
          "text": [
            "5\n",
            "1947\n"
          ]
        }
      ]
    },
    {
      "cell_type": "markdown",
      "source": [
        "# Find a Highest-Scoring Fitting Alignment of Two Strings"
      ],
      "metadata": {
        "id": "SJe5QO03xjKn"
      }
    },
    {
      "cell_type": "markdown",
      "source": [
        "Say that we wish to compare the approximately 20,000 amino acid-long NRP synthetase from Bacillus brevis with the approximately 600 amino acid-long A-domain from Streptomyces roseosporus, the bacterium that produces the powerful antibiotic Daptomycin. We hope to find a region within the longer protein sequence $v$ that has high similarity with all of the shorter sequence $w$.\n",
        "\n",
        "**Global alignment will not** work because it tries to align all of $v$ to all of $w$; **local alignment will not work** because it tries to align substrings of both $v$ and $w$. Thus, we have a distinct alignment application called the **Fitting Alignment Problem**.\n",
        "\n",
        "“Fitting” $w$ to $v$ requires finding a substring $v′$ of $v$ that maximizes the global alignment score between $v′$ and $w$ among all substrings of $v$.\n",
        "\n",
        "**Fitting Alignment Problem**\n",
        "Construct a highest-scoring fitting alignment between two strings.\n",
        "\n",
        "**Given:** Two DNA strings v and w, where v has length at most 10000 and w has length at most 1000.\n",
        "\n",
        "**Return:** The maximum score of a fitting alignment of v and w, followed by a fitting alignment achieving this maximum score. Use the simple scoring method in which matches count +1 and both the mismatch and indel penalties are equal to 1. (If multiple fitting alignments achieving the maximum score exist, you may return any one.)\n",
        "\n",
        "\n",
        "**Solution :**\n",
        "1. Start with matrix full of zeros. Say, columns are representing v(longer sequence) and rows w (shoerter one).\n",
        "2. First row must stay filled with zeros. Beucase at any position in v, w aligns the alignment score will be 0+penalty or 0+match bonus.\n",
        "3. First column must be filled based on penalty values to prevent left overlapping alignments.\n",
        "4. While backtracking stop when you reached at the start of w.\n"
      ],
      "metadata": {
        "id": "Fw3GsoGRx0Jc"
      }
    },
    {
      "cell_type": "code",
      "source": [
        "import numpy as np\n",
        "def fitting_alignment(v,w, p=1,b=1):\n",
        "    '''\n",
        "    Finds he maximum score of a fitting alignment of v and w,\n",
        "    followed by a fitting alignment achieving this maximum score.\n",
        "    p:indel and substitution penalty (positive intiger)\n",
        "    b: positive intiger for matching letter bonus\n",
        "    Assumes w is smaller than v.\n",
        "    '''\n",
        "    # Create score matrix\n",
        "    lv=len(v) # Number of columns\n",
        "    lw=len(w) # Number of rows\n",
        "    m=np.zeros((lw+1,lv+1),dtype=int)\n",
        "    # Fill out the first column, corresponding insertions of w\n",
        "    # This step will prevent alignment to start from outside of v\n",
        "    m[:,0]=range(0,-(lw+1), -p)\n",
        "    # Fill out the rest of the matrix\n",
        "    for i in range(1,lw+1):\n",
        "        for j in range(1,lv+1):\n",
        "            right=m[i,j-1]-p\n",
        "            down=m[i-1,j]-p\n",
        "            diag=m[i-1,j-1]+((-p) if v[j-1]!=w[i-1] else b)\n",
        "            m[i,j]=max(right,down,diag)\n",
        "\n",
        "    # Backtrack and return alignment string\n",
        "    algn1=''\n",
        "    algn2=''\n",
        "    i=lw\n",
        "    j=np.argmax(m[-1, :]) # Return the first occurence of max value\n",
        "    max_score=m[-1,j]\n",
        "    while i>0 and j>0:\n",
        "        if (m[i,j]==m[i-1,j-1]+b and w[i-1]==v[j-1]) or m[i,j]==m[i-1,j-1]-p:\n",
        "            algn1=v[j-1]+algn1\n",
        "            algn2=w[i-1]+algn2\n",
        "            i-=1\n",
        "            j-=1\n",
        "            continue\n",
        "        elif m[i,j]==m[i-1,j]-p:\n",
        "            algn1='-'+algn1\n",
        "            algn2=w[i-1]+algn2\n",
        "            i-=1\n",
        "            continue\n",
        "        elif m[i,j]==m[i,j-1]-p:\n",
        "            algn1=v[j-1]+algn1\n",
        "            algn2='-'+algn2\n",
        "            j-=1\n",
        "            continue\n",
        "\n",
        "    return f'{(max_score)}\\n{algn1}\\n{algn2}'\n",
        "\n",
        "# Test ============================\n",
        "#1\n",
        "v='GTAGGCTTAAGGTTA'\n",
        "w='TAGATA'\n",
        "print(fitting_alignment(v,w))\n",
        "#2\n",
        "with open('/content/rosalind_ba5h (1).txt','r') as f:\n",
        "    v=f.readline().strip()\n",
        "    w=f.readline().strip()\n",
        "print(fitting_alignment(v,w))"
      ],
      "metadata": {
        "colab": {
          "base_uri": "https://localhost:8080/"
        },
        "id": "ANmwKAiG0152",
        "outputId": "4131816d-4197-44f7-fedf-12a34761c940"
      },
      "execution_count": null,
      "outputs": [
        {
          "output_type": "stream",
          "name": "stdout",
          "text": [
            "2\n",
            "TAGGCTTA\n",
            "TA-G-ATA\n",
            "147\n",
            "GGCATTCCATTACGT-CTCTAGA-TT-TG-AGGACTACTGCAGCTGAAGTTACAGGCGACTCGAAGAAACG-CGGACGCCA-CTAAATTATCGTGTCGCGCGACAGCGCGC-CCTGCGCGAGATG-GATCAACGTCACACCGGT-AGTGGACCTGGCAGGCGGGAGCAGCAGGATCATTGAC-TTGTACCATT-AAT-CCCATTATAGA-CCGGACGTCTCTGACAAGGTCA-G-TACAAAACTCATGAC-A-G-CCGCG-A--G--AA-GGCCT-GTTTC--CGCCCAACGATG-GCT-C--GTAC--ACACTAGGACGAACGATGGCCTTGCCCTGCCACGTAGCTATTGTGCATAGGCTTTTAGTATACGGACGAGTCTAGTAGACTA-GAATAG-G-TG-TGAAGA-AGCTG-TTG---CTACGAATACGGCTCTCAGACCTCCA-CTTTTTCAATTTGTCAA-TAC--GGATCCGA-CAAAAGGCGT--CA-GTAGGGCT-TATGAAGATCG-AG-C-ATGTC-A-CCCAGTTAAGTTTCTTGA-CTCG-CGCCCACGCACCACTCT-TAGGAATGGACAAGGCG-AGAG-ACATTAGAACATTGCTTACGCTC-GT-TCTCTCT-GAG-TGTGGGTCTGGTT-GGCGAATGTGGATTCCTG-A-CC-GTTGTC-TTAGTCAGGCAAGCGAAGTAAGTAT--TAACGCTCGACAA-CCGCGCTGCATCGTTGTCTCATTAGTCTGGACT-GCGTCTGTAAAGTCTCCGAGAGCATTTGAAAGCAAATCTTAACTGCGATTCCC-CCCAAGATGAAATAATTTGC-CTGCTCCTT-GGCGGTAG-TAGAGCAATG-GCGTCC-TAA-GCCTCC--T-TCCCCACTATCATTG-TGCGATTTATGC-GCGAATCTGGACTTGGTCGTAATTTAGCACGAGTGGGGCCAAATGGACTTGACAGAAAACCGCTGTCGCTTCTCGTTC-TGTA-TCTTC-ATGATCGGAC-CATTCTA--TAAGGG-G-CTCTCGTG-ATGGA--C-CTG-ACAT---TG--TTA-CTCGGATACA-ATGCCATCGTCACACATGCTTTTGGCTTATGAGCTCGT-CGAAG-T-T--CTAATGAAC-GTACGTC---\n",
            "GG-ACT-C-TTAC-TAAGCGAGATTTCTGAATGAGTACTCCA-C-G--G-TA-A-G-G-C-CGAAG-TGCGTGGGA-GCCAGTTCAATGCTC-T-CCG-GC-ATAACGCGCGTCT-ATC--GATGCAACCAACGTTAGATAAGTAAGCGGA--TAG-AGGC----GCATTA-GAGCTTTCACGTT-AACCCTTCTATACCCATTAGATATCAGG--GTCCCGGGC-ACTTTATGTTTTAGAACACCTGACAATGTGGGCGCACTGCCAACAG-TTGGTTACGAGGAGAAACGAAGCGCTACTGGTACTTA-AC--GG-C-AAGGA-GGGAGT-ACGAGCCACGTAG-----GT-CAT-GG-ATTCA-TA-ACAAAC-CGT-AAG-AGATTAGGATTAGAGTTGTTTAA-ACTTCTGCTTGATTCTAAGCATA--GTTTTGTG-CCT--AGCTATTCCAA--T-ACAAGTACGAGGA--AGAGC-CCAGGCCTAGCATCTA--ACTCTAT--AG--CGCAGTCTATGCCTAGCACAGTT--TTTTCGAGAGCCCGTTG-GCACGC-CCA-TGTACAGGTACGGATGATCCGCTGAGTACA-T-G-GC--CGC--ACTC-CAATGTCAAGATGGAGCCATGCGACAAGTTCCACG-AGGCGGA-TCCTGAATCCTGCTG-CTTTATTC--GC-TGTTATGGAAG-ATCCTACCACT-G-CAATTC-AG-TCCA-CG-TG---CATTTGCCTACCCTAG-GT-TGTAAA--C-CCTA-A-C----G--AG-GGAGC--AA-TG-G---CCCACCC-CG--G-AAT-ATCTACAC-GTTCGTTCAAC-GT-GCT-GAGCTATGTATATCCACAATACAACCGGTGT-AGCAAAAGCA--GCTG-TATTCA-GCTTC-AA-C--G-C-CGGTC--AATTT-TC-C----GGGTCC---T---CTTCACCGTTAA-TGCCGTTGC--CTCATTCTTGCAGACGCCGCT-ATGGGACTCA--CAACGT-GGGGTGCCGCTCG-GCAT-TATGCGCGGAACATGACTGACTTAGGGCGGTTACAGA-CCCACCG-C-CAC-CGCACTTGCCTGAAGAGAACCTAAGAGGTTATACCTAAT-CACTGTGCGTCGGG\n"
          ]
        }
      ]
    },
    {
      "cell_type": "markdown",
      "source": [
        "# Find a Highest-Scoring Overlap Alignment of Two Strings"
      ],
      "metadata": {
        "id": "vOWcT1N19ccb"
      }
    },
    {
      "cell_type": "markdown",
      "source": [
        "When we assembled genomes, we discussed how to use overlapping reads to assemble a genome, a problem that was complicated by errors in reads. We would like to find overlaps between error-prone reads as well.\n",
        "\n",
        "An **overlap alignment** of strings $v = v_1 ... v_n$ and $w = w_1 ... w_m$ is a **global alignment of a suffix of $v$ with a prefix of $w$**. An optimal overlap alignment of strings $v$ and $w$ maximizes the global alignment score between an $i-suffix$ of $v$ and a $j-prefix$ of $w$ (i.e., between $vi ... vn$ and $w1 ... wj$) among all $i$ and $j$.\n",
        "\n",
        "**Overlap Alignment Problem**\n",
        "Construct a highest-scoring overlap alignment between two strings.\n",
        "\n",
        "**Given:** Two protein strings v and w, each of length at most 1000.\n",
        "\n",
        "**Return:** The score of an optimal overlap alignment of $v$ and $w$, followed by an alignment of a suffix $v’$ of $v$ and a prefix $w’$ of $w$ achieving this maximum score. Use an alignment score in which matches count +1 and both the mismatch and indel penalties are 2. (If multiple overlap alignments achieving the maximum score exist, you may return any one.)"
      ],
      "metadata": {
        "id": "5dV3N6NC9jEk"
      }
    },
    {
      "cell_type": "code",
      "source": [
        "import numpy as np\n",
        "def overlapping_alignment(v,w, p=2,b=1):\n",
        "    '''\n",
        "    Finds The score of an optimal overlap alignment of v' and w,\n",
        "    followed by an alignment of a suffix v′ of v and a prefix w′\n",
        "    of  𝑤  achieving this maximum score.\n",
        "    p: penalty for indels,\n",
        "    b:bonus for matching characters\n",
        "    '''\n",
        "    # Create score matrix\n",
        "    lv=len(v) # Number of columns\n",
        "    lw=len(w) # Number of rows\n",
        "    m=np.zeros((lw+1,lv+1),dtype=int)\n",
        "    # First row and first column starts with 0\n",
        "    for i in range(1,lw+1):\n",
        "        for j in range(1,lv+1):\n",
        "            right=m[i,j-1]-p\n",
        "            down=m[i-1,j]-p\n",
        "            diag=m[i-1,j-1]+((-p) if v[j-1]!=w[i-1] else b)\n",
        "            m[i,j]=max(right,down,diag)\n",
        "\n",
        "    # Backtrack and return alignment string\n",
        "    algn1=''\n",
        "    algn2=''\n",
        "    j=lv\n",
        "    # Return the first occurence of max value in the last column\n",
        "    i=np.argmax(m[:,-1])\n",
        "    max_score=m[i,-1]\n",
        "    while i>0 and j>0:\n",
        "        if (m[i,j]==m[i-1,j-1]+b and w[i-1]==v[j-1]) or m[i,j]==m[i-1,j-1]-p:\n",
        "            algn1=v[j-1]+algn1\n",
        "            algn2=w[i-1]+algn2\n",
        "            i-=1\n",
        "            j-=1\n",
        "            continue\n",
        "        elif m[i,j]==m[i-1,j]-p:\n",
        "            algn1='-'+algn1\n",
        "            algn2=w[i-1]+algn2\n",
        "            i-=1\n",
        "            continue\n",
        "        elif m[i,j]==m[i,j-1]-p:\n",
        "            algn1=v[j-1]+algn1\n",
        "            algn2='-'+algn2\n",
        "            j-=1\n",
        "            continue\n",
        "\n",
        "    return f'{(max_score)}\\n{algn1}\\n{algn2}'\n",
        "\n",
        "# Test ============================\n",
        "#1\n",
        "v='PAWHEAE'\n",
        "w='HEAGEAWGHEE'\n",
        "print(overlapping_alignment(v,w))\n",
        "#2\n",
        "with open('/content/rosalind_ba5i.txt','r') as f:\n",
        "    v=f.readline().strip()\n",
        "    w=f.readline().strip()\n",
        "print(overlapping_alignment(v,w))"
      ],
      "metadata": {
        "colab": {
          "base_uri": "https://localhost:8080/"
        },
        "id": "K3UBGb_P9iag",
        "outputId": "f83b4692-7a38-4ba1-e68e-6aebce1a57f7"
      },
      "execution_count": null,
      "outputs": [
        {
          "output_type": "stream",
          "name": "stdout",
          "text": [
            "2\n",
            "HEA-E\n",
            "HEAGE\n",
            "30\n",
            "CGTAATTT-TCACTTTTG-GGCT-CCAATCGTGGTGT-AATTTATC-ACA-AAGCATCAGCC-CCTTCGTATATGGGACTTTA-GCACTTTTGGCAGGTCTGC-A-GCATAC-CACTATCAAATGAGTTCCC-CGT-GGG-T-AAACGGGAGATTCTATCCGCGCAT-GTA-TGGGAAATA-TGGTCTGGCCTTT-GGGCGGCTGACAGGAGGG-TCTTGCATC-AGATCATC--GGT-AT-AAGCCG-ACGC-G\n",
            "TGT-GTTTCTTACTACTGCGGCTGCTGATCGTGGTGTAAATTTTTCGACACGAGTATCAACCACC-TCATATAT-GGAC-TTAGGC-C-TCTGCCACGTCTGCAATGTAT-CGCGC-AT-AGGT-AGTACCCTTGTGGGGTTCCAACGCGAGA-GCTACCCGCGCATAGTATTGGCAAA-AGTAGTCTTGCCTTTAGGGCGG-TGGTAGAAGGGCTCTTGCATCGAGGTCATCAAAGTCGTCAA-CCGAACGCAG\n"
          ]
        }
      ]
    },
    {
      "cell_type": "markdown",
      "source": [
        "# Align Two Strings Using Affine Gap Penalties"
      ],
      "metadata": {
        "id": "NG5INdAiKroz"
      }
    },
    {
      "cell_type": "markdown",
      "source": [
        "A gap is a contiguous sequence of spaces in a row of an alignment. One way to score gaps more appropriately is to define an affine penalty for a gap of length $k$ as $σ + ε · (k − 1)$, where $σ$ is the gap opening penalty, assessed to the first symbol in the gap, and $ε$ is the gap extension penalty, assessed to each additional symbol in the gap. We typically select $ε$ to be smaller than $σ$ so that the affine penalty for a gap of length $k$ is smaller than the penalty for $k$ independent single-nucleotide indels ($σ · k$).\n",
        "\n",
        "**Alignment with Affine Gap Penalties Problem**\n",
        "\n",
        "Construct a highest-scoring global alignment of two strings (with affine gap penalties).\n",
        "\n",
        "**Given:** Two amino acid strings $v$ and $w$ (each of length at most 100).\n",
        "\n",
        "**Return:** The maximum alignment score between v and w, followed by an alignment of $v$ and $w$ achieving this maximum score. Use the BLOSUM62 scoring matrix, a **gap opening penalty of 11**, and a **gap extension penalty of 1**.\n",
        "\n",
        "**Solution:**\n",
        "1. Build an alignment graph on three levels; for each node (i, j), we will construct three different nodes: $lower_{(i, j)}$, $middle_{(i, j)}$, and $upper_{(i, j)}$.\n",
        "2. **Middle level** will contain **diagonal** edges of weight $Score(vi,wj)$ representing matches and mismatches.\n",
        "3. The **lower level** will have **only vertical** edges with weight $-\\epsilon$ to represent gap extensions in $v$, and the **upper level** will have **only horizontal** edges with weights $-\\epsilon$ to represent gap extensions in $w$.\n",
        "4. Three layers are constructed in the following way.\n",
        "\n",
        "$lower_{ij} = max\\left\\{\n",
        "  \\begin{array}{ll}\n",
        "    lower_{(i-1),\\,j}-\\epsilon\\\\\n",
        "    middle_{(i-1),\\,j}+\\sigma\\\\\n",
        "  \\end{array}\n",
        "\\right.$\n",
        "\n",
        "$upper_{ij} = max\\left\\{\n",
        "  \\begin{array}{ll}\n",
        "    upper_{i,\\,(j-1)}-\\epsilon\\\\\n",
        "    middle_{i,\\,(j-1)}+\\sigma\\\\\n",
        "  \\end{array}\n",
        "\\right.$\n",
        "\n",
        "$middle_{ij} = max\\left\\{\n",
        "  \\begin{array}{ll}\n",
        "    upper_{i,\\,j}\\\\\n",
        "    lower_{i,\\,j}\\\\\n",
        "    middle_{(i-1),\\,(j-1)}+Score(v[i],w[j])\\\\\n",
        "  \\end{array}\n",
        "\\right.$\n",
        "\n",
        "5. The variable $lower_{i,\\, j}$ computes the score of an optimal alignment between the $i-prefix$ of $v$ and the $j-prefix$ of $w$ ending with a deletion (i.e., a gap in w), whereas the variable $upper_{i,\\, j}$ computes the score of an optimal alignment of these prefixes ending with an insertion (i.e., a gap in v), and the variable $middle_{i,\\, j}$ computes the score of an optimal alignment ending with a match or mismatch.\n",
        "6. The first term in the recurrences for $lower_{i,\\, j}$ and $upper_{i,\\, j}$ corresponds to extending the gap, whereas the second term corresponds to\n",
        "initiating the gap.\n",
        "7. After finding $middle_{v,w}$ velue traceback. When $middle_{i,\\,j}$ appears in upper and lower layers, it means the correct path moves over upper or lower layers. When this happens jump to upper or lower layers and trace the path back in those layers following the rules established for those layers.\n",
        "8. To save space, below solution does not use intermediate upper, lower and middle backtrack matrices.\n"
      ],
      "metadata": {
        "id": "DTOXQvs0YaY3"
      }
    },
    {
      "cell_type": "code",
      "source": [
        "!pip install blosum"
      ],
      "metadata": {
        "colab": {
          "base_uri": "https://localhost:8080/"
        },
        "id": "zHDCN4RMKsgs",
        "outputId": "1e0d7fe6-4e46-4452-80ae-9bdf1c24b0f1"
      },
      "execution_count": null,
      "outputs": [
        {
          "output_type": "stream",
          "name": "stdout",
          "text": [
            "Collecting blosum\n",
            "  Downloading blosum-2.0.2-py3-none-any.whl (21 kB)\n",
            "Installing collected packages: blosum\n",
            "Successfully installed blosum-2.0.2\n"
          ]
        }
      ]
    },
    {
      "cell_type": "code",
      "source": [
        "import blosum\n",
        "import numpy as np\n",
        "def global_align_affine_gap(v,w,sigma=11, epsilon=1):\n",
        "    '''\n",
        "    The maximum alignment score between v and w,\n",
        "    followed by an alignment of v and w achieving this maximum score.\n",
        "    Uses the BLOSUM62 scoring matrix from blosum package,\n",
        "    a gap opening penalty of sigma (default: 11),\n",
        "    and a gap extension penalty of epsilon (default: 1).\n",
        "    '''\n",
        "    b_m=blosum.BLOSUM(62)\n",
        "    lv=len(v)\n",
        "    lw=len(w)\n",
        "    # Create lower,middle and upper 3 layer matrices\n",
        "    lower=np.zeros((lv+1,lw+1),dtype=int)\n",
        "    middle=np.zeros((lv+1,lw+1),dtype=int)\n",
        "    upper=np.zeros((lv+1,lw+1),dtype=int)\n",
        "    # Initialize upper layer score matrix\n",
        "    upper[0,1:]=range(-sigma,-((lw*epsilon)+sigma), -epsilon)\n",
        "    upper[1:,0]=range(-sigma,-((lv*epsilon)+sigma), -epsilon)\n",
        "    # Initialize lowe layer score matrix\n",
        "    lower[1:,0]=range(-sigma,-((lv*epsilon)+sigma), -epsilon)\n",
        "    lower[0,1:]=range(-sigma,-((lw*epsilon)+sigma), -epsilon)\n",
        "    # Initialize middle layer score matrix\n",
        "    middle[0,1:]=range(-sigma,-((lw*epsilon)+sigma), -epsilon)\n",
        "    middle[1:,0]=range(-sigma,-((lv*epsilon)+sigma), -epsilon)\n",
        "    # Fill the metrices\n",
        "    for i in range(1,lv+1):\n",
        "        for j in range(1,lw+1):\n",
        "            lower[i,j]=max(lower[i-1,j]-epsilon, middle[i-1,j]-sigma)\n",
        "            upper[i,j]=max(upper[i,j-1]-epsilon, middle[i,j-1]-sigma)\n",
        "            middle[i,j]=max(lower[i,j],\n",
        "                            upper[i,j],\n",
        "                            middle[i-1,j-1]+b_m[v[i-1]][w[j-1]])\n",
        "    # Traceback\n",
        "    i=lv\n",
        "    j=lw\n",
        "    algn1=''\n",
        "    algn2=''\n",
        "    gap_upper=False # When gap opens jumps upper score matrix\n",
        "    gap_lower=False # When gap opens jumps lower score matrix\n",
        "\n",
        "    while i>0 or j>0:\n",
        "        if gap_lower and i>0: # Gap present so follow path in lower layer\n",
        "            if lower[i,j]==lower[i-1,j]-epsilon:\n",
        "                algn1=v[i-1]+algn1\n",
        "                algn2='-'+algn2\n",
        "                i-=1\n",
        "            else: #elif lower[i,j]==middle[i-1,j]-sigma:Finds the gap start pos\n",
        "                algn1=v[i-1]+algn1\n",
        "                algn2='-'+algn2\n",
        "                i-=1\n",
        "                gap_lower=False # Returns the middle score matrix\n",
        "\n",
        "        elif gap_upper and j>0: # Gap present so follow path in lower layer\n",
        "            if upper[i,j]==upper[i,j-1]-epsilon:\n",
        "                algn1='-'+algn1\n",
        "                algn2=w[j-1]+algn2\n",
        "                j-=1\n",
        "            else: #elif upper[i,j]==middle[i,j-1]-sigma:Finds the gap start pos\n",
        "                algn1='-'+algn1\n",
        "                algn2=w[j-1]+algn2\n",
        "                j-=1\n",
        "                gap_upper=False # Returns the middle score matrix\n",
        "\n",
        "        # If gaps are not present follows the middle layer\n",
        "        elif i>0 and j>0 and middle[i,j]==middle[i-1,j-1]+b_m[v[i-1]][w[j-1]]:\n",
        "            algn1=v[i-1]+algn1\n",
        "            algn2=w[j-1]+algn2\n",
        "            i-=1\n",
        "            j-=1\n",
        "        # If it finds alternate path in other layers jumps to that layer\n",
        "        elif j>0 and middle[i,j]==upper[i,j]:\n",
        "            gap_upper=True\n",
        "        elif i>0 and middle[i,j]==lower[i,j]:\n",
        "            gap_lower=True\n",
        "\n",
        "    return f'{middle[-1,-1]}\\n{algn1}\\n{algn2}'\n",
        "\n",
        "# Test ===============================\n",
        "#1\n",
        "v='PRTEINS'\n",
        "w='PRTWPSEIN'\n",
        "print(global_align_affine_gap(v,w,sigma=11, epsilon=1))\n",
        "\n",
        "#2\n",
        "with open('/content/rosalind_ba5j.txt','r') as f:\n",
        "    v=f.readline().strip()\n",
        "    w=f.readline().strip()\n",
        "print(global_align_affine_gap(v,w,sigma=11, epsilon=1))"
      ],
      "metadata": {
        "colab": {
          "base_uri": "https://localhost:8080/"
        },
        "id": "-PV6bKk5ZWUE",
        "outputId": "c21ba259-1f67-472b-bfe0-001b7285137b"
      },
      "execution_count": null,
      "outputs": [
        {
          "output_type": "stream",
          "name": "stdout",
          "text": [
            "8\n",
            "PRT---EINS\n",
            "PRTWPSEIN-\n",
            "289\n",
            "LATQIICGQNYGRNWGSWTQIHNQADPHQARISHWYVKCERHKNFVYCT-----PVPTACLYVAYYPHANADNDCDRAWMLPKMWSQ\n",
            "LATQIICGQNYGRNWGVWTQ-------EPAPISHWYVKCE--KNFVYCSVCTMYPHGTA---VAYYPHANADNICDGAWMLPGMWSQ\n"
          ]
        }
      ]
    },
    {
      "cell_type": "markdown",
      "source": [
        "Chekking answers:"
      ],
      "metadata": {
        "id": "tSudozeuPoa9"
      }
    },
    {
      "cell_type": "code",
      "source": [
        "# optimize edilecek if- in zip lines\n",
        "\n",
        "\n",
        "import blosum\n",
        "b_m=blosum.BLOSUM(62)\n",
        "#a='LATQIICGQNYGRNWGSWTQIHNQADPHQARISHWYVKCERHKNFVYCT-----PVPTACLYVAYYPHANADNDCDRAWMLPKMWSQ'\n",
        "#b='LATQIICGQNYGRNWGVWTQ-------EPAPISHWYVKCE--KNFVYCSVCTMYPHGTA---VAYYPHANADNICDGAWMLPGMWSQ'\n",
        "a='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'\n",
        "b='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'\n",
        "\n",
        "a='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'\n",
        "b='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'\n",
        "score=0\n",
        "z=list(zip(a,b))\n",
        "for i in range(len(z)):\n",
        "    if str('-') in z[i]:\n",
        "        score-=5\n",
        "    else:\n",
        "        score+=b_m[z[i][0]][z[i][1]]\n",
        "\n",
        "print(score)\n",
        "\n"
      ],
      "metadata": {
        "colab": {
          "base_uri": "https://localhost:8080/"
        },
        "id": "P8kQXi4jlVdE",
        "outputId": "54bed23c-47eb-40a0-8b74-155fc2cd76b3"
      },
      "execution_count": null,
      "outputs": [
        {
          "output_type": "stream",
          "name": "stdout",
          "text": [
            "18448.0\n"
          ]
        }
      ]
    },
    {
      "cell_type": "markdown",
      "source": [
        "# Find a Middle Edge in an Alignment Graph in Linear Space"
      ],
      "metadata": {
        "id": "Tipd9baMVgiB"
      }
    },
    {
      "cell_type": "markdown",
      "source": [
        "Middle Edge in Linear Space Problem\n",
        "\n",
        "Given strings $v = v_1 . . . v_n$ and $w = w_1 . . . w_m$, define $middle = len(m)//2$.\n",
        "\n",
        "The middle column of $ALIGNMENTGRAPH(v,w)$ is the column containing all nodes $(i, middle)$ for $0≤i≤n$.\n",
        "\n",
        "A longest path from source to sink in the **alignment graph must cross the middle column somewhere**, and our first task is to figure out where using only $O(n)$ memory.\n",
        "\n",
        "For a given node in the alignment graph $(i,m)$:\n",
        "\n",
        " $Score(i)=FROMSOURCE(i)+TOSINK(i)$\n",
        "\n",
        "An **edge in an optimal alignment path starting at the middle node** **(more than one\n",
        "middle edge may exist for a given middle node)**.\n",
        "\n",
        "**Given:** Two amino acid strings.\n",
        "\n",
        "**Return:** A middle edge in the alignment graph of these strings, where the optimal path is defined by the **BLOSUM62** scoring matrix and a linear indel penalty equal to 5. Return the middle edge in the form “$(i, j) (k, l)$”, where $(i, j)$ connects to $(k, l)$.\n",
        "\n",
        "**Solution:**\n",
        "\n",
        "1. Divide the alignment graph in two parts using mid point `len(w)///2`.\n",
        "2. Calculate sub graphs\n",
        " $left \\, subgraph=column[0]\\rightarrow column[mid]$ and $right \\, subgraph=column[mid+1] \\rightarrow column[len(w)]$. For a $w$ with $len(w)==5$, $\\texttt{TPRSN}$, $LEFT$ sub graph will contain  $COLUMNS[0:3]=[0,1,2]$ corresponding to $\\texttt{TPRSN}[0:2]=\\texttt{TP}$, $RIGHT$ sub graph will contain $COLUMNS[4:len(w)]=[4,5]$, corresponding to $\\texttt{TPRSN}[3:5]=\\texttt{SN}$.\n",
        "3. Because RIGHT sub graph starts from $MID+1$ there is one column between two sub graphs. Which will connect two sub graphs.\n",
        "4. For a given index $i$ in $LEFT$ and $RIGHT$ score arrays find the $i$ that maximises $SCORE_i$ which follows the rule:\n",
        "\n",
        "$SCORE_{i} = max\\left\\{\n",
        "  \\begin{array}{ll}\n",
        "    LEFT_{i}-sigma+RIGHT_{i}\\\\\n",
        "    LEFT_{i}+ BLOSUM[v[i]][w[mid]]+RIGHT_{i}\\\\\n",
        "  \\end{array}\n",
        "\\right.$\n",
        "\n",
        "5. The logic behind this notation is that: middle edge that starts from middle node can be traced back from the column $MID+1$ in two ways, going from right to left or diagonal. Middle node is the node in the $MID$ column that maximizes path score and enables optimum path."
      ],
      "metadata": {
        "id": "g_Id7CLnLGt0"
      }
    },
    {
      "cell_type": "code",
      "source": [
        "!pip install blosum"
      ],
      "metadata": {
        "colab": {
          "base_uri": "https://localhost:8080/"
        },
        "id": "6_ADHdHbatXj",
        "outputId": "496f82ac-1306-45a0-8dcd-c5063c2d9a6e"
      },
      "execution_count": 2,
      "outputs": [
        {
          "output_type": "stream",
          "name": "stdout",
          "text": [
            "Collecting blosum\n",
            "  Downloading blosum-2.0.2-py3-none-any.whl (21 kB)\n",
            "Installing collected packages: blosum\n",
            "Successfully installed blosum-2.0.2\n"
          ]
        }
      ]
    },
    {
      "cell_type": "code",
      "source": [
        "import blosum\n",
        "def linear_space_score_calculation(v,w,m=blosum.BLOSUM(62),sigma=5):\n",
        "    '''\n",
        "    Linear space score calculation for alignment score matrix.\n",
        "    Moves one column each time. Uses blosum package for importing\n",
        "    BLOSUM62 matrix. Default value for indel penalties sigma is 5.\n",
        "    Returns last COLUMN of alignment score matrix (cc) and traceback moves\n",
        "    associated with scores (t) in the column.\n",
        "    '''\n",
        "    lw=len(w)\n",
        "    lv=len(v)\n",
        "    cc=list(range(0,-(lv+1)*sigma,-sigma)) #current column\n",
        "    for j in range(0,lw):\n",
        "        pc=cc[:] # previous column\n",
        "        cc[0] = pc[0]-sigma # initialize first row of cc\n",
        "        for i in range(1,lv+1):\n",
        "            candidates = [pc[i-1]+int(m[v[i-1]][w[j]]),\n",
        "                          cc[i-1]-sigma,\n",
        "                          pc[i]-sigma]\n",
        "            cc[i]=max(candidates) # 0:diagonal, 1:down, 2:right\n",
        "    pc=None\n",
        "    return cc\n",
        "\n",
        "def middle_edge(v, w, m=blosum.BLOSUM(62),sigma=5):\n",
        "    '''\n",
        "    Calculates the middle edge of an alignment graph.\n",
        "    Uses linear space score calculation to find left and right half\n",
        "    endings. Uses blosum package for importing BLOSUM62 matrix.\n",
        "    Default value for indel penalties (sigma) is 5.\n",
        "    '''\n",
        "    lv=len(v)\n",
        "    lw=len(w)\n",
        "    mid =(lw)//2\n",
        "    # From left\n",
        "    l_h=linear_space_score_calculation(v, w[:mid], m, sigma)\n",
        "    # From right: Reverse sequences, calculate scores and return reversed scores\n",
        "    r_h= linear_space_score_calculation(v[::-1], w[mid+1:][::-1], m, sigma)[::-1]\n",
        "\n",
        "    indexes=None # Row indexes for middle_node and next_node\n",
        "    max_score = float('-inf')\n",
        "    for i,s in enumerate(l_h):\n",
        "        try:\n",
        "            right = s + r_h[i] - sigma\n",
        "            if right >= max_score:\n",
        "                max_score=right\n",
        "                indexes=(i,i)\n",
        "            diagonal = s + r_h[i+1]\n",
        "            diagonal += m[v[i]][w[mid]]\n",
        "            if diagonal >= max_score:\n",
        "                max_score = diagonal\n",
        "                indexes=(i,i+1)\n",
        "        except IndexError: # If indexes go beyond the r_h column\n",
        "            pass\n",
        "        # return maximum possible alignment score, mid_node and next_node\n",
        "    return max_score, (indexes[0],mid), (indexes[1], mid+1)\n",
        "\n",
        "# Test ========================\n",
        "# 1\n",
        "v= 'PLEASANTLY'\n",
        "w= 'MEASNLY'\n",
        "a, b,c = middle_edge(v, w, m=blosum.BLOSUM(62),sigma=5)\n",
        "print(f'{a} {b} {c}')\n",
        "\n",
        "# 2\n",
        "with open('/content/rosalind_ba5k.txt','r') as f:\n",
        "    v,w=f.read().splitlines()\n",
        "a, b,c = middle_edge(v, w, m=blosum.BLOSUM(62),sigma=5)\n",
        "print(f'{a} {b} {c}')"
      ],
      "metadata": {
        "id": "jad1vPHpwEva",
        "colab": {
          "base_uri": "https://localhost:8080/"
        },
        "outputId": "ac191273-1c34-462a-af92-ea196f399bd3"
      },
      "execution_count": 48,
      "outputs": [
        {
          "output_type": "stream",
          "name": "stdout",
          "text": [
            "17.0 (4, 3) (5, 4)\n",
            "245.0 (514, 507) (515, 508)\n"
          ]
        }
      ]
    },
    {
      "cell_type": "markdown",
      "source": [
        "# Align Two Strings Using Linear Space"
      ],
      "metadata": {
        "id": "Po-pCRXTIIh-"
      }
    },
    {
      "cell_type": "markdown",
      "source": [
        "Find the highest-scoring alignment between two strings using a scoring matrix in linear space.\n",
        "\n",
        "**Given:** Two long amino acid strings (of length approximately 10,000).\n",
        "\n",
        "**Return:** The maximum alignment score of these strings, followed by an alignment achieving this maximum score. Use the BLOSUM62 scoring matrix and indel penalty σ = 5."
      ],
      "metadata": {
        "id": "OG-RfM4ECp1e"
      }
    },
    {
      "cell_type": "code",
      "source": [
        "import blosum\n",
        "def linear_space_aligner(v,w,m=blosum.BLOSUM(62), sigma=5):\n",
        "    lv=len(v)\n",
        "    lw=len(w)\n",
        "\n",
        "    if lv==0 and lw==0: return 0,'',''\n",
        "    elif lv==0: return -(sigma*lw),'-'*lw, w\n",
        "    elif lw==0: return -(sigma*lv),v,'-'*lv\n",
        "\n",
        "    best_score,mid_node,next_node=middle_edge(v,w,m,sigma)\n",
        "    lq_score, lq_v, lq_w =linear_space_aligner(v[:mid_node[0]], w[:mid_node[1]])\n",
        "\n",
        "    if mid_node[0]==next_node[0]:\n",
        "        bridge_v ='-'\n",
        "    else:\n",
        "        bridge_v=v[next_node[0]-1]\n",
        "    bridge_w = w[mid_node[1]]\n",
        "\n",
        "    rq_score, rq_v, rq_w =linear_space_aligner(v[next_node[0]:], w[next_node[1]:])\n",
        "\n",
        "    return int(best_score), lq_v+bridge_v+rq_v, lq_w+bridge_w+rq_w\n",
        "\n",
        "# Test ==================\n",
        "#1\n",
        "v='PLEASANTLY'\n",
        "w='MEANLY'\n",
        "\n",
        "with open('/content/rosalind_ba5l.txt','r') as f:\n",
        "    v,w=f.read().splitlines()\n",
        "    v=v.strip()\n",
        "    w=w.strip()\n",
        "result = linear_space_aligner(v,w,m=blosum.BLOSUM(62), sigma=5)\n",
        "for i in result: print(i)"
      ],
      "metadata": {
        "id": "qqFvLa6TCHoj",
        "colab": {
          "base_uri": "https://localhost:8080/"
        },
        "outputId": "42e57052-31b2-490d-8bbf-925c3f414cf4"
      },
      "execution_count": 79,
      "outputs": [
        {
          "output_type": "stream",
          "name": "stdout",
          "text": [
            "18332.0\n",
            "SNQPVIDCYLKISSA-FVQCDECCDHVIFPTW-E---CNMPAMNCHVQYMQVIWHTQMTPTVITLNIVDWYIHMRVPSGGWHTPLPQAF---K-Y-PSTM--W-----RMSSERRCPFPDMVWPKDGLWKNGMEIWD-K-S---SSVLVRSFMTPRGKFD-EREYPLIPGSVMG----EYPEYM-Q-----EFMNQYTVLCCG----PPFRVY-D-WHWLLHPGGWAEAWHYP--Q-NE--MS------VFF---D-GCDCTESKWKTVHYAPFDFTVDCKAQGKYGDVKQWCSSVCF----LSQCGADTAAMEHYPHPHQCRKT---LMDTYMVACG--M-KDMDLIYFVNPNTKFSNRKWSWEFMKQS----S-SNF-IFKSNKKNPGRSCPLKIEYDPRKISK---V-FGN-A-VFDCHIIHNYTNWTVNSTWILHYDTEIGQWPFPKLLHHRGRNFWEWYIAHAEIIDDLLMKYCETYYTGKT-ENDN-WRHQGTLFTPTYSMPLHTMHKMWSKWMRTA----MMIIMGIEIQQWYIK---A----DFEPGMSNMWQLKPC-LLWQYKPFDQGAA------ISHSCKEKHLGKDNLFKEWDMLM-EMLYCAFITLLMD-T-A-MQWTCDPSITFMDKNKMNYIQQTGWNQPQLCHCNFIFMQGCK----KWYSPEKCDHFNMMFIWWPFRMECNQVWEWDCFAHRAHMDFKWAEAQWERCCYIHGRCTVRSVVDEFNAEFSRRWQICSVPFKFKMNLCIAQGSTQMTVLYKKVFLHGSAQVENCVKI--F--YTMSCPEEEHGP-EM---VPVKCCGAKEERTEDTPQPLMD---I---VPYPEWWATMKGHKHYWQNRHMLLFEDRVHFCDQATIQNGQTWKGDMHLKQWLQQQASKAKWDILKPTRRTRFCQAEICCWDFKQAMAE-ID-VYKELDPNYIEFCTMGDCQLTNDENSQSGLFHHDEYGVTY-FGKWADPLC----H--I-TNRKVHNPYARLCQIVSPWLQRFTGGFTLSMEYMGWLGKRSPNKQHDQIPSGGVYGGSFFCGITADIICSCDENALPARFPVPTMFYPAAFIEM-FGCAQ---WYEMEEDVLDGPCGCC----WHCCQRKWPTDWPKFCGTWPVCWEPVKDCPHRRYKFYGHYWEYRALHETKF--T-----ILWFLPFFMSYIVVMNQAWGCCWGFLRPSRAPHGWTVSIKLTPESQTARFSAVWSQKSNNGCSHQAQLNESVEEGSHYLPIRGTNIRFMVQPYNRVLKKKEIWTDHPYVWDHQACNLPLSYEGEV-MRLDTA-FRKGWNAWGDGWGIQCGWRAAQNAS-VNS--K-YPQIDRD--A-GPYCCVARYDWLYEVHLVVWISLGILKRNLGNPFFGE-D-ISRKCALCALMGGYQHRYQRNLHCAKKHTFGSESTNPPTIYAPS---WFMPVHTQSFGKPCTDKAAWPF-TCKGKE-AFKQDCGVTQDPLLQNFSSQRSFKAEGHLYCSPLTGEAERMAVLGNSCPKFICVTFQMTNGHVFGQGCDTEIRHFYNRQKYMYMPSKKRFQCVAQDNTNPTRNPNDPV-EFSAAEPGHEKWTTLQWMHFCDELDPVNNVGWVNDNCSDVKHYFTQVPFADKKLDNMHT----N----PAARIMGK--Y--WNELNADGDACELLYGHKW--------VGKIYMRGQHWGDS--YPSEKTDQSWHNDTCVKLSHAQFRMNSSMYDWEAP-V-----VWGAAYRHM-WIATVMIPATAVTFFPSPSDFEEECWYYAVFGPHTIQYFSYYYGEYMPHGIAWVQHEFNPCTGEVCHLWYEIMSYYFVWQVLQNFCYGYRG-G-H-ATWGFSRIAGIYIRFEHW-----H----C-----ATMMMVWALVPRNDQVSVRWEDWFDWQSNFPSW-GLHTNFMAKVFCFNMPIAMMNEVPPQW-W-----IGTDRKEICNIC-W--ESVHHEQWTMKPYNHVCTNWTQDFDRFVCSGACHLPWQLKKDWSPHLLATFGHNAMPEVDRHFPMDQRRSEANSCISNIRQ--R-LCGNNI-GEWKQVVNRMIYICGIGCTVTPQMNESHSHEHRHEQPWPRWDNELRECPLVREE-RSWHTASCDNITEQHGTKFPPSFEHNYMTSCENMQESDPENETYWHWKDLESWKDDIRTLEYGLVAGKIIPDRMDQDPQMSQFHNQYWRCHGNQMFSQTRHHLAIEYGNWNKLPYLWCFQHRLGRV-GNDTTNIPD-SDHTNQEKETRFMTSMREGNIVHS---Q----FFVGKVDPAYMIDCELDCFEYFWTTGEPIIDSNGDRERDIKVELMAGFPLISKHKVFCVYEANLYFQDPGIKPDPMNCNDMVICKRFFKKLEGTLFVQAWPSRALANADIQRNDVC--TTW--WTITAQYHWQDTTIYSMFECDNMAIRFTYCDEYWEWLQTATKFQKDVAG--HQEPENR---CDTWSLEDCCFWCRDLWWNS-PQTTYYYMWCP-P-------NRIVGFAPDFKHEDSTFV-LLQRFIPLGSECWWSDKMPWHVSAFRRYH--EVNCTNSMVPCECERY-DWP-WYREIHMMMIDTHEPQRWFFTPTVWCGLYEFSQDAMGMVCCFTNCHFLKALRKVRQQITRDMDGMQVSSQMYIFFVEICYTRLEAKEHQSCDMRTPPVVANTCLEKDPIVAFWMTWCMKRIITNHMMFCGTAAMVTAGMYDENHDSPTYCFAAFDPGRSYHHIIIKWMFITRYATHMVIENHPLRHGEWHMLTWWLQHLPHALA-R--TKV-F-VAQNQFEVFNCIVARMQIASENYWEL-N------GEWWDGVADNQDRDCQPRDQNEHTCKACYDAPLTELNMMTSRNVKFNMGDNQIMHIWTFTTTNACQGTWMCWEVWREDFHHHSACNHFEEYCQEIDDYHDAWYTRFA-S-GLERCMLGFGDDGDALDCHLST-T-WW--SSKRDNDDSTCTISDHKHHGRFRQRV----WRDMYLKTDMLSYCW-VPFYWIHPDSMYAQMYNAQRRSFGYEWIHFFR--MVLGMLYEWRAYNLMQGL--AQRHNYTWWYMQWAMCCCVR-MDSLSKPWEMMMNFK-KL-NEMQISEEGECG-DTPDLQIDLMHCQEWNRFPEAWEENWMMGCCYTTGEL-T-LCWQWKDAKHASCHNIQYQQKMYGVKFSPYSS---ADWFISPMKYSVSIFSNNGGLTAMCDRTVMIQMKGRHHTTNPCHYELGAQLDFNTNGTKLWPIIHMDRADKKNHL--DPTPWYGPC------HS----R-SQK-----S--CPADMAT--Q-FAMGQCENIRGEEPSSGHVMETEHDKDMMWPEMKA---FIANKICER--RAN-----VRPNKEQPECVLNFHSRNVGSRSFVPL-S-CVRVHGQIWDQTAMPRHRPQDKMFESFAMEIGNPRSIFYR---LICATIKACWDKEAFYLCNVNQARWFYHY--H-DNQVRGFNMFI--FVVMQDLCPMICGGNLES-------WTAAKDG-C---FLAYCSLQNTIP-I-HANYDVPGRSFCYKRLG--WQWE--WEKSNSFFFGWEPVRSRKW---KLPFGKFDDWCCNDKSTQLLFLRVQWWQQNGYWSPCWVHHLFGFDINSFSAQAGKSCNHI-S----HKD-----V--VVMARP--EP-AGDIFSWFCFYIDFGSAANDIVVVWYLSKDCHKYIQPIAM---K---FYATSMFTVQWWYISR--N--N-AIPTHRAMWFYYGVWWKHKKGVYDFSCRYRQRQP-NKRCVLFKRGKFVLVQDQQGFAAQGCMFLCMG------CLCD--L-VGENF----Q-ECSVIAFAWNKNWT-KSWTSCGF-YESEWGVCAHFHQIQHSIKRYYAAILWVWWCFEPNIQTSTDYSEKDITCHDLRMPNEPTWHGWVYAMFQACAVLLREFEVVNYAWH---RTIDKKTVFM--V--WFFSLKPLNNTTVRWC---LYWLYTDPDSIHKLG------YRFHVPHNRCVYQMWMGICKPQCTPMVLSVKCLHAD--T-----RNDQWMYQIACRMRLHKTMWFYWSKFIVTMEKCKSIHWKH-H-RHENFHDYLFYWWICQKFRWIGQCDTLWHNNEQYRYGGIFCRHE-KLERTEVIAAFDMQETTVPFYLTTPKGTEDTVRYIAYYNVHHIRESNFRCGQRIKLLMHNK----HVEGENNGCPFRGSSWQWPSDYKCFVMVAFFYCLFNG-FNT-HSGGHGYMDFMSFTCPACYWTSIVGDHDALYLTDSVMLFFHPFNAWTSILLYVIFFKHAEITHDMGMIGHHCSGPGFMPPFIW-M-----L-MRPNVDIVNGNSNQRLYQ-RC--HYAGMSANNSPWTYFCPCYCKKMFP-D--V-RST-YSTAVGSKLSCTLQIVQLEGDTYSFQTMKLPIQPHSDWKSMCIALPYATILQLESMHGTINFATMRFTMWNEMVKNLHFLFLRENQCHKPDFFAGEIWLMLERTDCQCD-R--MDYADATFLQSHRK---W--CLAIFWSVQDSLQFANICD-YEVQWQQG-MDSSDTQCKKACNDPYSNSLNIYFTHCVFNHLMFKGVHCSYQKTYVRMR-S--EEIYV-VISPIWCYRFNKSYWPDADHNADMTFRLGPDKAQHDLRYAEYIQLQCKFKWSEWHQEIQNMCWWGDFGVADTDPLFYFDIREIRWRNGTSYQFCYWPCIVMEMLAKGEQIVNWFDHDAYSGYYHQFACMIYTDINMTQV--I-PSILETSREQMSAWIDMAQAKAQAYNDCALCKERKRPRKQKLEDASIAWGYTVILT----T----CQMGAYKKKQ-------NSAPQYCV--K----DCYPTAYFAILP--D-G--HCMEWANHARDIKSDIKKNCLCKNNAYFLYFFDDPKFTWWQHNYIRDGLLFIPLHAMGPEDIIFTYMISHDIQIQSFNDLVFCKLEMSQCTIEVTALM----F-LP--HHCYEHAPEAHAPIHQFFYEYVHWCKITGEEIACQYARTLD-PEER-R-HIYNWTIEY-TCRVNVLRGQKFAKSRFQEVYHALKYGGWLPDIDQTMSQCQHPIKYCARIDNIVRWKKVNNITPHYKLDLFMLETV-DRF-VCRGDKDMTAIEGAVPTICYFSPILPCMYHCTCMHEESPNCSRYHVIQAIYEQKWGMCIAPPYEKEHMSLKTLIP-HHEISSKMENNL-EVIQNVAIVSNENNCYVYCDVVWSAQVASNHVIEPHRVLCVWAEKSLPYKSDWDRRWPHCQPWPEVQNRGGAHGEHWYRH----KPFRLV--RKMTVRFSSHRYRRTFKMVPIMTPYAAHTLWVPRPANNIEKCILTEGCAATWQSGAFPEHPRGKQPGQLKANEE-L-GDWAPMAG---RTQLPHWYN--MRNYIKYIGK----KQQYLWMLYITNEECEL--TRNYI--TGYRNELTLCPNGIYLAFYHSMRIRPFGHGRDEIASTWDTRMWNHIQGPVLLKAILVLDCMAYLDFYINSRKECEATKDHQNKYMPRCYYRAKKKDVNTTANLNHSMYWHMHTDDYSDFVENPNCR-CNYPEQPPKCYESMMLQMDNWMELCPRVHTYYYDYPMDWIFVSKLPCGRIEVKITVQGQNDEDMYPRWMMMLTGIDKNYHWWGGMY-R-------GWEHKVVDQKA-------VNCSSPDGPVVQPYTGHP-NE-YAPPSCLTCTD-YSWNRCIGLP--QSQ-LSPFGWGSWSL--H------WLCI-FWQYELWITRIMSCDCCFEKKEYATMCEEKEQDGCDKGEGPHVSNGEHSFAIPCTCALKYFNAHFFKEWPHCLVFPVAQWDVGMKVMPEDSQLAYCNYTTHAIIKKYGKHDYNTFFHWSWAPLNMNVPKCEGHWSCWTN-H-----WN-NETVLDCCLEKFPIRWACNLIDFTLFMGFYETIAKSHHQNHLDTIHGETQQ---K--YLQRGPCHRNEYGWWLNANGCVARLLDGAN--FSPTWSRDRSFQHNGCWVQVNDDY---V--MQ--T-QTNNY-FPRMKMIMAVHGGCGQHTWTNHMRIASYMFADWLILMHI-TSNDGEWMNPGQCGRITEQDP-H----FNWLRSG-D-IQNAMSH--SQELPKKCPAVVPNALKSPNDGN-S--DW-TTGKKREDNCDPKQHTYPCHDNMHTV---H-----VDIKSKVHPQQMAP--QKFLSVVRTQCDSEKLIGEMHTMAQTEQKE-HQIKQYNQNYCTPYHVTSMWHCQGHGAIRRIYQACQISGRAAEHKVEWFM-W-----DIKDCTDDHMSNDFDCWVILV-IILESGIALQRVRQDQEM-QG--FLFVPMDTQFAEDSIEGPWESELIIIAQAVLSNFHTVTFFHMEPCSARSHCISRDETWILGMIWMMINPQRISFCMAIRYTLIDVQDWTCKYEPREWWDLHAIMLWALQDFGEQTKYPNCWPTCGLTKQMIHEIITCMWCVIIPNDHVRFSNSTVGTNWYILPYWKREHVLLEQQNDDFGSDKPMREDETGTRQRWRIQNQTGCWFRKSICNIQWFVPITRSLYHTCNVTDLPGVGCEWHHTNGNFPFSRAAFKQCEVNTDEFFRKLDM-------GIDLTLTKQYI-Y---EHEE---I----TWGGKAGGGTDHTVVSYNWHGAIPVRKER---R----CMRYIMDVDTI-----HGNETNTYMIQDNPHVQN-C-FYKSQMDCTAES-LVHQ-L--W---RPTKAED--P----N--TEAHRQNLFVYEC--NNMNNSWYFSLYTGCVCDTLG--HSFSISGFIDDCYQREFADADLTEDYWGEVYCSVRWHFQYSAGRDDEPQGRPRCYSMSFWVMGNSEQTFYTEHTRIYWMWPQEWQEIF------M-EQAGRELFGALSDEGLDHFMNEREWNN-L-E--KLMLQSETVECMFHFPVRYHCEQVDHWRYMKCANSTPNDWGGFSEKGLVLHFYITMIMGVNFYQPQDIGSLHHTHCGHYTTIGYVPFEP--LDGYA-VYWLPETDPMFTFLT-WSPQAFSTVHIRREIAPIRNWMGSAAIAFGYVMRRTKIMEHKKQSMVTMYVETRTIRRAFRYYINNGTQKSENPTTTEPKYYAQFTHSSNLCWAAPRMRCMHQSGPRIGKCEFDGHRRW-PSYQMY---PIFLIEHNAWKRLMVIDMINHIECAMLKELNGQWNQCNMYNAPLYLIRDTMMFVWHRVYLHMKFNDPKRAPTWRSEPMFCWRTH---A---A-KFSVAPWYFSPIGVSKMKVKYQSK--M-KDKWYTPRTRNDLLGILEHHIAGHRKKRHWDWITC---HT--------DFEVDCR---SPGEMLLLYKED-ARFQQPKLL-IDD-C-AAEWQRFISVGYPGHINCDI-IEV-SSSRMTFFAGTRLSPVMFTTPSENLWCVNEYGSDREILKPIPMIH---GF--S--LH-TT-I----K--------RGQHEIMYHDIATPSAILERSLLCQHMPEFGSWYTALPFRHKMPC-F------HSV---I---QIAVWPEKDYMWKSEDCMNSNQAH-MLVGVDVEPMHNRARWFEETDWKMRGLAIWIYTGEDWQHIGDGWVPRASIWRPLFAPLLWGEDTTM---V---RTWC-M--WAIAMML--I----IEF-----Q---VQTHICWVMAMWPI-WHSP-D-NQPTGDDCYRNHAMKSMEHKCWK-K--KI--I-Y--WQCQ---ELY-QYVC--TNMMCHAIRKFVLSQNLLLAYSFKC---NGLACACIEHRYGQMPTW-EA-SCEKPSPGIMEENLNMTMWDLATAGTPNTVVGDMGTRNRPNMEKRQNMSYYCCCQQLLI---Q---W--Y-Q---DYGGAYCSFETN-YFRH-------E-RYRMTLWPYRKTVIMECMVHAWCHKGSDTKLRWEPQFNFEKPHVKNNVHNDPEHNIPRMKEWDNSMAQQM-WAPMTLVYHCPF---ESVGYLST-D-----SLEGRQLIAMEFFRVRVH\n",
            "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\n"
          ]
        }
      ]
    },
    {
      "cell_type": "markdown",
      "source": [
        "# ddwodkaowdkaodkaw"
      ],
      "metadata": {
        "id": "TUEgLYHiD5iy"
      }
    },
    {
      "cell_type": "code",
      "source": [
        "import blosum\n",
        "def NWScore(X, Y, m=blosum.BLOSUM(62), sigma=5):\n",
        "    lenX = len(X)\n",
        "    lenY = len(Y)\n",
        "\n",
        "    Score = [[0] * (lenY + 1) for _ in range(2)]\n",
        "\n",
        "    for j in range(1, lenY + 1):\n",
        "        Score[0][j] = Score[0][j - 1] - sigma\n",
        "\n",
        "    for i in range(1, lenX + 1):\n",
        "        Score[1][0] = Score[0][0] -sigma\n",
        "\n",
        "        for j in range(1, lenY + 1):\n",
        "            scoreSub = Score[0][j - 1] + m[X[i - 1]][Y[j - 1]]\n",
        "            scoreDel = Score[0][j] -sigma\n",
        "            scoreIns = Score[1][j - 1] -sigma\n",
        "            Score[1][j] = max(scoreSub, scoreDel, scoreIns)\n",
        "        # Copy Score[1] to Score[0]\n",
        "        Score[0] = Score[1][:]\n",
        "    LastLine = Score[1][:]\n",
        "    return LastLine\n",
        "\n",
        "X='PLEASANTLY'\n",
        "Y='MEANLY'\n",
        "NWScore(X, Y, m=blosum.BLOSUM(62), sigma=5)"
      ],
      "metadata": {
        "colab": {
          "base_uri": "https://localhost:8080/"
        },
        "id": "rcuAbPkfivv_",
        "outputId": "c7215c3b-7b54-4324-b925-7912391ba5f4"
      },
      "execution_count": null,
      "outputs": [
        {
          "output_type": "execute_result",
          "data": {
            "text/plain": [
              "[-50, -43.0, -33.0, -24.0, -13.0, -4.0, 8.0]"
            ]
          },
          "metadata": {},
          "execution_count": 5
        }
      ]
    },
    {
      "cell_type": "code",
      "source": [
        "def NeedlemanWunsch(v,w,m=blosum.BLOSUM(62), sigma=5):\n",
        "    lv=len(v)\n",
        "    lw=len(w)\n",
        "    s_mat=[[0]*(len(w)+1) for _ in range(lv+1)]\n",
        "    s_mat[0]=list(range(0,-((lw+1)*sigma),-sigma))\n",
        "    for i in range(1,lv+1): s_mat[i][0]=s_mat[i-1][0]-sigma\n",
        "    for i in range(1,lv+1):\n",
        "        for j in range(1,lw+1):\n",
        "            s_mat[i][j]=max([s_mat[i-1][j-1]+m[v[i-1]][w[j-1]],s_mat[i-1][j]-sigma,s_mat[i][j-1]-sigma])\n",
        "    from collections import deque\n",
        "    i=lv\n",
        "    optimal_path=deque()\n",
        "    j=lw\n",
        "    while i>0 or j>0:\n",
        "        if i>0 and j>0 and s_mat[i][j]==s_mat[i-1][j-1]+m[v[i-1]][w[j-1]]:\n",
        "            optimal_path.appendleft(0)\n",
        "            i-=1\n",
        "            j-=1\n",
        "        elif i>0 and s_mat[i][j]==s_mat[i-1][j]-sigma:\n",
        "            optimal_path.appendleft(1)\n",
        "            i-=1\n",
        "        elif j>0:\n",
        "            optimal_path.appendleft(2)\n",
        "            j-=1\n",
        "    v_alg=''\n",
        "    w_alg=''\n",
        "    v_idx=0\n",
        "    w_idx=0\n",
        "    for i in list(optimal_path):\n",
        "        if i==0:\n",
        "            v_alg+=v[v_idx]\n",
        "            w_alg+=w[w_idx]\n",
        "            v_idx+=1\n",
        "            w_idx+=1\n",
        "        elif i==1:\n",
        "            v_alg+=v[v_idx]\n",
        "            v_idx+=1\n",
        "            w_alg+='-'\n",
        "        else:\n",
        "            w_alg+=w[w_idx]\n",
        "            w_idx+=1\n",
        "            v_alg+='-'\n",
        "    return v_alg,w_alg\n",
        "\n",
        "def Hirschberg(X, Y):\n",
        "    if len(X) == 0:\n",
        "        Z = '-' * len(Y)\n",
        "        W = Y\n",
        "    elif len(Y) == 0:\n",
        "        Z = X\n",
        "        W = '-' * len(X)\n",
        "    elif len(X) == 1 or len(Y) == 1:\n",
        "        Z, W = NeedlemanWunsch(X, Y)  # Implement Needleman-Wunsch function\n",
        "    else:\n",
        "        xlen = len(X)\n",
        "        xmid = len(X) // 2\n",
        "        ylen = len(Y)\n",
        "\n",
        "        ScoreL = NWScore(X[:xmid], Y)\n",
        "        ScoreR = NWScore(X[xmid:][::-1], Y[::-1])\n",
        "        max_score = float('-inf')\n",
        "        ymid = 0\n",
        "        for i, (score_l, score_r) in enumerate(zip(ScoreL, reversed(ScoreR))):\n",
        "            score = score_l + score_r\n",
        "            if score > max_score:\n",
        "                max_score = score\n",
        "                ymid = i\n",
        "\n",
        "        Z1, W1 = Hirschberg(X[:xmid], Y[:ymid])\n",
        "        Z2, W2 = Hirschberg(X[xmid:], Y[ymid:])\n",
        "\n",
        "        Z = Z1 + Z2\n",
        "        W = W1 + W2\n",
        "    return Z, W\n",
        "\n",
        "\n",
        "\n",
        "# Test ===================\n",
        "#with open('/content/rosalind_ba5l.txt','r') as f:\n",
        "#    v,w=f.read().splitlines()\n",
        "#    v=v.strip()\n",
        "#    w=w.strip()\n",
        "v='ATC'\n",
        "w='AATG'\n",
        "result=Hirschberg(v,w)\n",
        "\n",
        "def score_calculator(v,w, m=blosum.BLOSUM(62), sigma=5):\n",
        "    score=0\n",
        "    for i in zip(v,w):\n",
        "        if '-' in i: score-=sigma\n",
        "        else: score+=m[i[0]][i[1]]\n",
        "    return score\n",
        "\n",
        "print(score_calculator(result[0], result[1]))\n",
        "print(result[0])\n",
        "print(result[1])"
      ],
      "metadata": {
        "colab": {
          "base_uri": "https://localhost:8080/"
        },
        "id": "Y0ahlRxamdjE",
        "outputId": "ff5d2696-f958-4cac-a72b-8dfa9457d634"
      },
      "execution_count": null,
      "outputs": [
        {
          "output_type": "stream",
          "name": "stdout",
          "text": [
            "1.0\n",
            "A-TC\n",
            "AATG\n"
          ]
        }
      ]
    }
  ],
  "metadata": {
    "colab": {
      "provenance": [],
      "collapsed_sections": [
        "79sZF-Bx9jq2",
        "ku1x6HhA-q77",
        "cYX-Uh9HZYKg",
        "06fnghvFrhvC",
        "TOu5PBWx02y6",
        "zw9fJNwUVgm7",
        "CHfE6uAJoN29",
        "SJe5QO03xjKn",
        "vOWcT1N19ccb",
        "NG5INdAiKroz"
      ],
      "include_colab_link": true
    },
    "kernelspec": {
      "display_name": "Python 3",
      "name": "python3"
    }
  },
  "nbformat": 4,
  "nbformat_minor": 0
}